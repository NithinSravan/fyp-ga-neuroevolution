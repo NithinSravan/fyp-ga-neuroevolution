{
  "cells": [
    {
      "cell_type": "markdown",
      "metadata": {
        "id": "40FnoUOlBzUe"
      },
      "source": [
        "# Genetic Algorithm for Smart Charging and Discharging of EVs\n",
        "\n",
        "This is an attempt to model the smart charging and discharging of EVs using Genetic Algorithm. The dataset used is a 96-point load data curve. The input parameters are:\n",
        "\n",
        "1.   Duration\n",
        "2.   Arrival Time\n",
        "3.   Arrival SOC\n",
        "\n"
      ]
    },
    {
      "cell_type": "code",
      "execution_count": 1074,
      "metadata": {
        "id": "9JmEAUCnBjTn"
      },
      "outputs": [],
      "source": [
        "import csv\n",
        "import matplotlib.pyplot as plt\n",
        "import random"
      ]
    },
    {
      "cell_type": "markdown",
      "metadata": {
        "id": "86PLj88TOrVD"
      },
      "source": [
        "# Vehicle Distribubtion\n",
        "Data was collected and sampled from NHTS Survey"
      ]
    },
    {
      "cell_type": "code",
      "execution_count": 1075,
      "metadata": {
        "colab": {
          "base_uri": "https://localhost:8080/",
          "height": 465
        },
        "id": "F-Ou9WRwOaMi",
        "outputId": "329f7c32-924d-482d-8a04-97f705f6b3c9"
      },
      "outputs": [
        {
          "name": "stdout",
          "output_type": "stream",
          "text": [
            "48\n",
            "154\n"
          ]
        },
        {
          "data": {
            "image/png": "[encoded data removed]",
            "text/plain": [
              "<Figure size 432x288 with 1 Axes>"
            ]
          },
          "metadata": {
            "needs_background": "light"
          },
          "output_type": "display_data"
        }
      ],
      "source": [
        "vehnum=[]\n",
        "with open('./VPMARRIVAL1MIN.csv','r') as file:\n",
        "    reader=csv.reader(file)\n",
        "    i=0\n",
        "    for row in reader:\n",
        "        if i !=0 and i%2==0:\n",
        "            vehnum.append(int(int(row[6])/600))\n",
        "        i+=1\n",
        "print(len(vehnum))\n",
        "# vehnum.sort()\n",
        "vtot=0\n",
        "for v in vehnum:\n",
        "  vtot+=v\n",
        "# print(vehnum[0],vehnum[95])\n",
        "print(vtot)\n",
        "plt.bar(range(len(vehnum)),vehnum)\n",
        "plt.show()"
      ]
    },
    {
      "cell_type": "markdown",
      "metadata": {
        "id": "LuBw3CtDPffB"
      },
      "source": [
        "#Genetic Algorithm\n",
        "\n",
        "1. Initialization\n",
        "2. Fitness Calculation\n",
        "3. Parent Selection\n",
        "4. Crossover\n",
        "5. Mutation\n",
        "\n",
        "Steps 2 through 5 are looped for a fixed number of times.\n"
      ]
    },
    {
      "cell_type": "markdown",
      "metadata": {
        "id": "WYiOiSr2RY0A"
      },
      "source": [
        "##Initialization"
      ]
    },
    {
      "cell_type": "code",
      "execution_count": 1076,
      "metadata": {},
      "outputs": [],
      "source": [
        "def clamp(num, min_value, max_value):\n",
        "   return max(min(num, max_value), min_value)"
      ]
    },
    {
      "cell_type": "code",
      "execution_count": 1077,
      "metadata": {
        "id": "dV7FS7_Bcp8r"
      },
      "outputs": [],
      "source": [
        "#util\n",
        "def interval_intersection(interval1, interval2):\n",
        "    if interval1[1] < interval2[0] or interval2[1] < interval1[0]:\n",
        "        return []\n",
        "    else:\n",
        "        start = max(interval1[0], interval2[0])\n",
        "        end = min(interval1[1], interval2[1])\n",
        "        return [start, end]"
      ]
    },
    {
      "cell_type": "markdown",
      "metadata": {
        "id": "Rx_kblE51H4a"
      },
      "source": [
        "Naive"
      ]
    },
    {
      "cell_type": "code",
      "execution_count": 1078,
      "metadata": {
        "id": "kjXwhXr1OoQt"
      },
      "outputs": [],
      "source": [
        "# #initialize population\n",
        "# import random\n",
        "# best=-100000\n",
        "# #parent_econload_gene=([random.randint(300,434) for x in range(5)])\n",
        "# cars=[]\n",
        "# soc=[random.uniform(0.8,1)for i in range(154)]\n",
        "# print(len(soc))\n",
        "# for t in range(0,48):\n",
        "#   for i in range(0,vehnum[t]):\n",
        "#     cars.append({\"t\":t,\"d\": random.randint(8,12),\"Pev\":[0 for x in range(96)]})\n",
        "# i=0\n",
        "# print(len(cars))\n",
        "# for car in cars:\n",
        "#   for t in range(car[\"t\"],car[\"t\"]+int(4*car[\"d\"])):\n",
        "#     interval=interval_intersection([-7.2,7.4],[-soc[i][t]*156,156-soc[i][t]*156])\n",
        "\n",
        "#     if interval !=[]:\n",
        "#       car[\"Pev\"][t]=random.uniform(interval[0],interval[1])\n",
        "#       #print(car[\"Pev\"][t])\n",
        "#   i+=1\n",
        "# parent_cars_gene=([[random.randint(-1,1) for x in range(65)] for i in range(5)])\n",
        "# new_populations = []\n",
        "# print(cars)"
      ]
    },
    {
      "cell_type": "code",
      "execution_count": 1079,
      "metadata": {
        "colab": {
          "base_uri": "https://localhost:8080/"
        },
        "id": "7Yq8NdR46o8F",
        "outputId": "d62fad0f-9119-44e6-ebbd-3d7dd06b13ea"
      },
      "outputs": [
        {
          "data": {
            "text/plain": [
              "154"
            ]
          },
          "execution_count": 1079,
          "metadata": {},
          "output_type": "execute_result"
        }
      ],
      "source": [
        "dur=[random.randint(8,12) for x in range(vtot)]\n",
        "len(dur)"
      ]
    },
    {
      "cell_type": "markdown",
      "metadata": {
        "id": "jwis_4nG1CDZ"
      },
      "source": [
        "Random shuffling of (-1,1)"
      ]
    },
    {
      "cell_type": "code",
      "execution_count": 1080,
      "metadata": {
        "id": "sHU6UP2ilE11"
      },
      "outputs": [
        {
          "name": "stdout",
          "output_type": "stream",
          "text": [
            "[9, 10, 11, 11, 12, 12, 13, 13, 13, 14, 15, 16, 16, 17, 17, 18, 18, 19, 19, 19, 20, 20, 20, 21, 21, 21, 21, 22, 22, 22, 22, 22, 23, 23, 23, 23, 23, 24, 24, 24, 24, 24, 25, 25, 25, 25, 26, 26, 26, 26, 26, 27, 27, 27, 27, 27, 28, 28, 28, 28, 28, 28, 29, 29, 29, 29, 29, 29, 30, 30, 30, 30, 30, 30, 30, 31, 31, 31, 31, 31, 31, 31, 31, 32, 32, 32, 32, 32, 32, 32, 32, 32, 33, 33, 33, 33, 33, 33, 33, 33, 33, 33, 34, 34, 34, 34, 34, 34, 34, 34, 34, 35, 35, 35, 35, 35, 35, 35, 35, 36, 36, 36, 36, 36, 36, 36, 37, 37, 37, 37, 37, 37, 38, 38, 38, 38, 38, 39, 39, 39, 39, 40, 40, 40, 40, 41, 41, 41, 42, 42, 43, 43, 44, 45]\n"
          ]
        }
      ],
      "source": [
        "#initialize population\n",
        "from numpy import random\n",
        "pop=100\n",
        "#parent_econload_gene=([random.randint(300,434) for x in range(5)])\n",
        "cars=[[clamp(random.normal(0,1.8),-7.2,7.4)/7.4 for i in range(vtot*96)]for x in range(pop)]\n",
        "dur=[random.randint(8,12)*4 for x in range(vtot)]\n",
        "start=[i for i in range(48) for v in range(vehnum[i])]\n",
        "print(start)\n",
        "end=[start[i]+dur[i] for i in range(vtot)]\n",
        "#print(len(start))\n",
        "soc=[0.0 for x in range(vtot*96) ]\n",
        "# ebattery=[0.0 for x in range(vtot*96) ]\n",
        "for j in range(vtot):\n",
        "    soc[96*j+start[j]]=round(random.uniform(0.8,1),2)\n",
        "ogsoc=soc\n",
        "\n",
        "ebattery=[round(soc[96*x+start[x]]*39,2) for x in range(vtot)]\n",
        "ogebattery=ebattery\n",
        "\n",
        "t=0\n",
        "arrival=vehnum+[0 for i in range(48)]\n",
        "freq={}\n",
        "for i in end:\n",
        "  if i in freq:\n",
        "    freq[i]+=1\n",
        "  else:\n",
        "    freq[i]=1\n",
        "depart=[0 for i in range(96)]\n",
        "for i in range(96):\n",
        "  if i in freq:\n",
        "    depart[i]=freq[i]\n",
        "\n",
        "vehpresent=[0 for i in range(96)]\n",
        "vehpresent[0]=arrival[0]-depart[0]\n",
        "\n",
        "for i in range(1,96):\n",
        "  vehpresent[i]=vehpresent[i-1]+arrival[i]-depart[i]\n"
      ]
    },
    {
      "cell_type": "code",
      "execution_count": 1081,
      "metadata": {
        "colab": {
          "base_uri": "https://localhost:8080/"
        },
        "id": "cxpEXREtUiB1",
        "outputId": "f5201e00-2640-41fd-dbb0-dc4d86bbd2e1"
      },
      "outputs": [
        {
          "data": {
            "text/plain": [
              "[36.27,\n",
              " 36.27,\n",
              " 35.1,\n",
              " 36.66,\n",
              " 37.83,\n",
              " 33.93,\n",
              " 37.44,\n",
              " 35.49,\n",
              " 34.32,\n",
              " 33.54,\n",
              " 34.32,\n",
              " 38.61,\n",
              " 33.54,\n",
              " 31.59,\n",
              " 37.83,\n",
              " 34.32,\n",
              " 31.98,\n",
              " 35.49,\n",
              " 34.71,\n",
              " 35.1,\n",
              " 38.61,\n",
              " 33.93,\n",
              " 36.27,\n",
              " 35.88,\n",
              " 35.88,\n",
              " 33.93,\n",
              " 32.37,\n",
              " 37.05,\n",
              " 37.05,\n",
              " 33.93,\n",
              " 39.0,\n",
              " 33.93,\n",
              " 37.83,\n",
              " 32.76,\n",
              " 38.61,\n",
              " 37.44,\n",
              " 32.76,\n",
              " 37.05,\n",
              " 35.1,\n",
              " 37.05,\n",
              " 37.05,\n",
              " 31.59,\n",
              " 33.15,\n",
              " 34.71,\n",
              " 36.66,\n",
              " 35.88,\n",
              " 32.76,\n",
              " 38.22,\n",
              " 33.93,\n",
              " 31.59,\n",
              " 37.83,\n",
              " 38.61,\n",
              " 32.76,\n",
              " 35.1,\n",
              " 35.1,\n",
              " 35.1,\n",
              " 33.15,\n",
              " 37.05,\n",
              " 35.1,\n",
              " 32.76,\n",
              " 38.22,\n",
              " 37.44,\n",
              " 33.54,\n",
              " 31.2,\n",
              " 38.61,\n",
              " 39.0,\n",
              " 35.49,\n",
              " 34.32,\n",
              " 37.83,\n",
              " 36.66,\n",
              " 33.54,\n",
              " 35.88,\n",
              " 34.32,\n",
              " 31.98,\n",
              " 38.61,\n",
              " 37.83,\n",
              " 35.49,\n",
              " 39.0,\n",
              " 31.2,\n",
              " 31.98,\n",
              " 33.54,\n",
              " 38.61,\n",
              " 37.44,\n",
              " 37.44,\n",
              " 32.37,\n",
              " 31.2,\n",
              " 37.44,\n",
              " 32.76,\n",
              " 32.37,\n",
              " 36.27,\n",
              " 36.27,\n",
              " 35.88,\n",
              " 31.98,\n",
              " 38.22,\n",
              " 33.15,\n",
              " 31.98,\n",
              " 35.1,\n",
              " 33.93,\n",
              " 37.05,\n",
              " 35.88,\n",
              " 39.0,\n",
              " 37.83,\n",
              " 31.59,\n",
              " 36.27,\n",
              " 37.83,\n",
              " 37.05,\n",
              " 33.54,\n",
              " 33.15,\n",
              " 34.71,\n",
              " 35.88,\n",
              " 35.1,\n",
              " 35.1,\n",
              " 36.27,\n",
              " 31.2,\n",
              " 34.32,\n",
              " 35.1,\n",
              " 31.2,\n",
              " 35.1,\n",
              " 35.1,\n",
              " 31.98,\n",
              " 31.2,\n",
              " 34.71,\n",
              " 39.0,\n",
              " 31.59,\n",
              " 32.37,\n",
              " 31.2,\n",
              " 31.2,\n",
              " 35.1,\n",
              " 38.22,\n",
              " 35.88,\n",
              " 39.0,\n",
              " 36.66,\n",
              " 37.44,\n",
              " 38.61,\n",
              " 34.71,\n",
              " 31.2,\n",
              " 35.88,\n",
              " 36.27,\n",
              " 37.05,\n",
              " 37.44,\n",
              " 31.59,\n",
              " 31.98,\n",
              " 33.93,\n",
              " 35.1,\n",
              " 31.98,\n",
              " 37.05,\n",
              " 34.32,\n",
              " 34.71,\n",
              " 37.83,\n",
              " 37.83,\n",
              " 35.1,\n",
              " 35.88,\n",
              " 38.61,\n",
              " 34.32]"
            ]
          },
          "execution_count": 1081,
          "metadata": {},
          "output_type": "execute_result"
        }
      ],
      "source": [
        "ebattery"
      ]
    },
    {
      "cell_type": "code",
      "execution_count": 1082,
      "metadata": {
        "colab": {
          "base_uri": "https://localhost:8080/",
          "height": 447
        },
        "id": "9VWxeyuWkksl",
        "outputId": "418f4089-3ba4-4eef-c5b8-1cd8f730dc4f"
      },
      "outputs": [
        {
          "data": {
            "text/plain": [
              "[<matplotlib.lines.Line2D at 0x17ec4986400>]"
            ]
          },
          "execution_count": 1082,
          "metadata": {},
          "output_type": "execute_result"
        },
        {
          "data": {
            "image/png": "[encoded data removed]",
            "text/plain": [
              "<Figure size 432x288 with 1 Axes>"
            ]
          },
          "metadata": {
            "needs_background": "light"
          },
          "output_type": "display_data"
        }
      ],
      "source": [
        "P_load=[]\n",
        "with open('./loadcurve.csv','r') as file:\n",
        "    reader=csv.reader(file)\n",
        "    i=0\n",
        "    for row in reader:\n",
        "        if i !=0:\n",
        "            P_load.append(float(row[4]))\n",
        "        i+=1\n",
        "\n",
        "plt.plot(P_load)\n"
      ]
    },
    {
      "cell_type": "markdown",
      "metadata": {
        "id": "gqM7rLDtdzYw"
      },
      "source": [
        "##Fitness Score Calculation"
      ]
    },
    {
      "cell_type": "code",
      "execution_count": 1083,
      "metadata": {
        "colab": {
          "base_uri": "https://localhost:8080/"
        },
        "id": "wCU9BWx5BIdm",
        "outputId": "535052d0-df72-4b3b-d50e-6404fb639d3b"
      },
      "outputs": [],
      "source": [
        "\n",
        "import numpy as np\n",
        "\n",
        "def fitness():\n",
        "  global cars, P_load,fit_value,soc_value,best_fitness,p_ev\n",
        "  best_fitness=-100000\n",
        "  pev=7.4\n",
        "  fit_value=[]\n",
        "  soc_value=[]\n",
        "  for i in range(0,pop):\n",
        "    obj_fun=0\n",
        "    P_econload=450\n",
        "    reward=0\n",
        "    soc=ogsoc\n",
        "    ebattery=ogebattery\n",
        "    for t in range(0,96):\n",
        "        sum_pev=0\n",
        "        for j in range(0,vtot):\n",
        "            if start[j]<t and t<=end[j]:\n",
        "              val=ebattery[j]+cars[i][t*vtot+j]*pev/4\n",
        "              if round(val,2)>=0.2*39 and round(val,2)<39:\n",
        "                ebattery[j]=round(val,2)\n",
        "                sum_pev+=cars[i][t*vtot+j]*pev\n",
        "                soc[96*j+t]=round((ebattery[j])/39,2)\n",
        "          \n",
        "            if t==end[j]:\n",
        "              # print(soc[96*j+end[j]])\n",
        "              if 0.7<=soc[96*j+end[j]]<=1:\n",
        "                # print(2) \n",
        "                reward+=0.5\n",
        "              if 0.6<=soc[96*j+end[j]]<0.7:\n",
        "                reward+=0.3\n",
        "              if 0.4<soc[96*j+end[j]]<0.6:\n",
        "                reward+=0.1\n",
        "            if t>end[j]:\n",
        "              soc[96*j+t]=soc[96*j+end[j]]\n",
        "        # print(P_load[t]-P_econload,sum_pev)\n",
        "        obj_fun+=(P_load[t]-P_econload+sum_pev)\n",
        "      \n",
        "    fitness_score=1/(obj_fun+1e-8)\n",
        "    # print(\"fitness:\",fitness_score)\n",
        "    # print(\"reward:\", reward)\n",
        "    # fitness_score=fitness_score+reward/100\n",
        "    #1000 worked well\n",
        "    fit_value.append(fitness_score)\n",
        "    soc_value.append(soc)\n",
        "\n",
        "    \n"
      ]
    },
    {
      "cell_type": "code",
      "execution_count": 1084,
      "metadata": {
        "id": "3H1v70C2ZFxy"
      },
      "outputs": [],
      "source": [
        "#selecting parents....\n",
        "\n",
        "def selectparent():\n",
        "    global fit_value,parents,best_soc,best_fitness\n",
        "    parents =[[0 for i in range(vtot*96)]for j in range(2*pop)]\n",
        "    best_soc=[0 for i in range(vtot*96)]\n",
        "    max_fitness_idx= np.argmax(fit_value)\n",
        "    best_fitness=fit_value[max_fitness_idx]\n",
        "    best_soc=soc_value[max_fitness_idx]\n",
        "    # print(max(fit_value),best_fitness)\n",
        "    # best_fit_index=-1\n",
        "    # for parent_num in range(500):\n",
        "\n",
        "    #     max_fitness_idx_arr = np.where(fit_value == np.max(fit_value))\n",
        "    #     max_fitness_idx = max_fitness_idx_arr[0][0]\n",
        "        \n",
        "    #     parents[parent_num] = cars[max_fitness_idx]\n",
        "    #     if best_fitness<fit_value[max_fitness_idx]:\n",
        "    #         best_fitness=max(fit_value[max_fitness_idx],best_fitness)\n",
        "    #         best_fit_index=max_fitness_idx\n",
        "        \n",
        "    #     fit_value[max_fitness_idx] = -99999999999\n",
        "    # best_soc = soc_value[best_fit_index]\n",
        "    tot_fit=sum(fit_value)\n",
        "    probs=[i/tot_fit for i in fit_value]\n",
        "    probs = sorted([(i, f/tot_fit) for i, f in enumerate(fit_value)], key=lambda p: p[1], reverse=True)\n",
        "    \n",
        "    for i in range(2*pop):\n",
        "        x=random.uniform(0,1)\n",
        "        j=0\n",
        "        while(x>=probs[j][1]):\n",
        "           x-=probs[j][1]\n",
        "           j+=1\n",
        "        parents[i]=cars[probs[j-1][0]]\n",
        "    # print(len(parents))\n",
        "# selectparent()\n",
        "#print(len(parents))"
      ]
    },
    {
      "cell_type": "markdown",
      "metadata": {
        "id": "bCXHL82fvUkm"
      },
      "source": [
        "## Crossover"
      ]
    },
    {
      "cell_type": "code",
      "execution_count": 1085,
      "metadata": {
        "id": "nQRLLC5pvY4t"
      },
      "outputs": [],
      "source": [
        "# import numpy as np\n",
        "# def PMX_crossover(parent1, parent2, seed):\n",
        "#     '''\n",
        "#     parent1 and parent2 are 1D np.array\n",
        "#     '''\n",
        "#     rng = np.random.default_rng(seed=seed)\n",
        "\n",
        "#     cutoff_1, cutoff_2 = np.sort(rng.choice(np.arange(len(parent1)+1), size=2, replace=False))\n",
        "\n",
        "#     def PMX_one_offspring(p1, p2):\n",
        "#         offspring = np.zeros(len(p1), dtype=p1.dtype)\n",
        "\n",
        "#         # Copy the mapping section (middle) from parent1\n",
        "#         offspring[cutoff_1:cutoff_2] = p1[cutoff_1:cutoff_2]\n",
        "\n",
        "#         # copy the rest from parent2 (provided it's not already there\n",
        "#         for i in np.concatenate([np.arange(0,cutoff_1), np.arange(cutoff_2,len(p1))]):\n",
        "#             candidate = p2[i]\n",
        "#             while candidate in p1[cutoff_1:cutoff_2]: # allows for several successive mappings\n",
        "#                 print(f\"Candidate {candidate} not valid in position {i}\") # DEBUGONLY\n",
        "#                 candidate = p2[np.where(p1 == candidate)[0][0]]\n",
        "#             offspring[i] = candidate\n",
        "#         return offspring\n",
        "\n",
        "#     offspring1 = PMX_one_offspring(parent1, parent2)\n",
        "#     offspring2 = PMX_one_offspring(parent2, parent1)\n",
        "#     parents=parents+offspring1\n",
        "#     parents=parents+offspring2\n",
        "\n",
        "#     return offspring1, offspring2\n",
        "\n",
        "\n",
        "# newcars=parents"
      ]
    },
    {
      "cell_type": "code",
      "execution_count": 1086,
      "metadata": {
        "id": "6YsRptkegNmL"
      },
      "outputs": [],
      "source": [
        "from operator import add,sub\n",
        "def crossover():\n",
        "     global parents,offspring \n",
        "     offspring = [[0 for i in range(vtot*96)]for j in range(pop)]\n",
        "     # The point at which crossover takes place between two parents. Usually, it is at the center.\n",
        "     \n",
        " \n",
        "     for k in range(pop):\n",
        "         # Index of the first parent to mate.\n",
        "         pshape=1000\n",
        "         parent1_idx = 2*k\n",
        "         # Index of the second parent to mate.\n",
        "         parent2_idx = 2*k+1\n",
        "         crossover_point = random.randint(0,vtot)\n",
        "         for i in range(96):\n",
        "         # The new offspring will have its first half of its genes taken from the first parent.\n",
        "          offspring[k][i*vtot:(i*vtot+crossover_point)] = parents[parent1_idx][i*vtot:(i*vtot+crossover_point)]\n",
        "         # The new offspring will have its second half of its genes taken from the second parent.\n",
        "          offspring[k][(i*vtot+crossover_point):(i*vtot+vtot)] = parents[parent2_idx][(i*vtot+crossover_point):(i*vtot+vtot)]\n",
        "#crossover()\n",
        "#print(parents)\n",
        "    "
      ]
    },
    {
      "cell_type": "code",
      "execution_count": 1087,
      "metadata": {
        "id": "kgTPPC1mdjDA"
      },
      "outputs": [],
      "source": [
        "def mutation():\n",
        "    global offspring\n",
        "    for i,off in enumerate(offspring) :\n",
        "        # The random value to be added to the gene.\n",
        "          mut_val=0.001\n",
        "          for j,g in enumerate(off):\n",
        "            if random.uniform(0,1)<mut_val:\n",
        "         \n",
        "                offspring[i][j] = clamp(random.normal(0,1.8),-7.2,7.4)/7.4\n",
        "    return offspring\n",
        "#mutation()"
      ]
    },
    {
      "cell_type": "code",
      "execution_count": 1088,
      "metadata": {
        "colab": {
          "base_uri": "https://localhost:8080/"
        },
        "id": "cfjeE_ufdQYp",
        "outputId": "1366e8db-0ee3-488d-9a08-80e2b1933c7f"
      },
      "outputs": [
        {
          "name": "stdout",
          "output_type": "stream",
          "text": [
            "best 0 : 0.0005499575592978876\n",
            "best 1 : 0.0005156226554361612\n",
            "best 2 : 0.0005006594319841457\n",
            "best 3 : 0.000495222889304877\n",
            "best 4 : 0.0004954226848971746\n",
            "best 5 : 0.0004903185384567294\n",
            "best 6 : 0.000496464685916503\n",
            "best 7 : 0.00048314549905379973\n",
            "best 8 : 0.00048536246337735117\n",
            "best 9 : 0.0004959970869485895\n"
          ]
        }
      ],
      "source": [
        "global parents,best,offspring\n",
        "new_pop=[[0 for i in range(vtot*96)]for j in range(pop)]\n",
        "best=[]\n",
        "count=0\n",
        "for i in range(0,10):\n",
        "    if count>=10:\n",
        "      break\n",
        "    if len(best)>=2 and abs(best[i-2]-best[i-1])<0.5:\n",
        "      count+=1\n",
        "    elif len(best)>=2 and  abs(best[i-2]-best[i-1])>=0.5:\n",
        "      count=0\n",
        "      \n",
        "    fitness()\n",
        "    selectparent() \n",
        "    crossover()\n",
        "    offspring_mutation=mutation()\n",
        "    new_pop = offspring_mutation\n",
        "    cars=new_pop\n",
        "    # print(len(cars))\n",
        "    print(\"best\",i,\":\",best_fitness)\n",
        "    best.append(best_fitness)\n",
        "    # print(fit_value[0])"
      ]
    },
    {
      "cell_type": "code",
      "execution_count": 1089,
      "metadata": {
        "colab": {
          "base_uri": "https://localhost:8080/"
        },
        "id": "WG4R1JhQFyBX",
        "outputId": "6f872a28-0276-4828-9701-f1c623a56939"
      },
      "outputs": [
        {
          "data": {
            "text/plain": [
              "173.9294117647059"
            ]
          },
          "execution_count": 1089,
          "metadata": {},
          "output_type": "execute_result"
        }
      ],
      "source": [
        "len(best_soc)/85"
      ]
    },
    {
      "cell_type": "code",
      "execution_count": 1091,
      "metadata": {
        "colab": {
          "base_uri": "https://localhost:8080/",
          "height": 447
        },
        "id": "JQp3HtcU3pWY",
        "outputId": "db57bcd8-5951-4013-888d-183697f341cc"
      },
      "outputs": [
        {
          "name": "stdout",
          "output_type": "stream",
          "text": [
            "96\n",
            "96\n",
            "96\n",
            "96\n",
            "96\n",
            "96\n",
            "96\n",
            "96\n",
            "96\n",
            "96\n",
            "96\n",
            "96\n",
            "96\n",
            "96\n",
            "96\n",
            "96\n",
            "96\n",
            "96\n",
            "96\n",
            "96\n",
            "96\n",
            "96\n",
            "96\n",
            "96\n",
            "96\n",
            "96\n",
            "96\n",
            "96\n",
            "96\n",
            "96\n",
            "96\n",
            "96\n",
            "96\n",
            "96\n",
            "96\n",
            "96\n",
            "96\n",
            "96\n",
            "96\n",
            "96\n",
            "96\n",
            "96\n",
            "96\n",
            "96\n",
            "96\n",
            "96\n",
            "96\n",
            "96\n",
            "96\n",
            "96\n",
            "96\n",
            "96\n",
            "96\n",
            "96\n",
            "96\n",
            "96\n",
            "96\n",
            "96\n",
            "96\n",
            "96\n",
            "96\n",
            "96\n",
            "96\n",
            "96\n",
            "96\n",
            "96\n",
            "96\n",
            "96\n",
            "96\n",
            "96\n",
            "96\n",
            "96\n",
            "96\n",
            "96\n",
            "96\n",
            "96\n",
            "96\n",
            "96\n",
            "96\n",
            "96\n",
            "96\n",
            "96\n",
            "96\n",
            "96\n",
            "96\n",
            "96\n",
            "96\n",
            "96\n",
            "96\n",
            "96\n",
            "96\n",
            "96\n",
            "96\n",
            "96\n",
            "96\n",
            "96\n",
            "96\n",
            "96\n",
            "96\n",
            "96\n",
            "96\n",
            "96\n",
            "96\n",
            "96\n",
            "96\n",
            "96\n",
            "96\n",
            "96\n",
            "96\n",
            "96\n",
            "96\n",
            "96\n",
            "96\n",
            "96\n",
            "96\n",
            "96\n",
            "96\n",
            "96\n",
            "96\n",
            "96\n",
            "96\n",
            "96\n",
            "96\n",
            "96\n",
            "96\n",
            "96\n",
            "96\n",
            "96\n",
            "96\n",
            "96\n",
            "96\n",
            "96\n",
            "96\n",
            "96\n",
            "96\n",
            "96\n",
            "96\n",
            "96\n",
            "96\n",
            "96\n",
            "96\n",
            "96\n",
            "96\n",
            "96\n",
            "96\n",
            "96\n",
            "96\n",
            "96\n",
            "96\n",
            "96\n",
            "96\n",
            "96\n",
            "96\n",
            "96\n"
          ]
        },
        {
          "data": {
            "text/plain": [
              "<function matplotlib.pyplot.show(close=None, block=None)>"
            ]
          },
          "execution_count": 1091,
          "metadata": {},
          "output_type": "execute_result"
        },
        {
          "data": {
            "image/png": "[encoded data removed]",
            "text/plain": [
              "<Figure size 432x288 with 1 Axes>"
            ]
          },
          "metadata": {
            "needs_background": "light"
          },
          "output_type": "display_data"
        }
      ],
      "source": [
        "for j in range(vtot):\n",
        "    plt.plot(best_soc[j*96:j*96+96])\n",
        "plt.show"
      ]
    }
  ],
  "metadata": {
    "colab": {
      "provenance": []
    },
    "kernelspec": {
      "display_name": "Python 3",
      "name": "python3"
    },
    "language_info": {
      "codemirror_mode": {
        "name": "ipython",
        "version": 3
      },
      "file_extension": ".py",
      "mimetype": "text/x-python",
      "name": "python",
      "nbconvert_exporter": "python",
      "pygments_lexer": "ipython3",
      "version": "3.8.6"
    }
  },
  "nbformat": 4,
  "nbformat_minor": 0
}
